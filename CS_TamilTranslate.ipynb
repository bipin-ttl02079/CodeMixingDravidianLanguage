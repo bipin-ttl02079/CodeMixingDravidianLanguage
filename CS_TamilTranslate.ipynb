{
  "nbformat": 4,
  "nbformat_minor": 0,
  "metadata": {
    "colab": {
      "name": "CS_TamilTranslate.ipynb",
      "provenance": [],
      "authorship_tag": "ABX9TyNr2FnPgKX9a5+9NkfU5TFn",
      "include_colab_link": true
    },
    "kernelspec": {
      "name": "python3",
      "display_name": "Python 3"
    },
    "language_info": {
      "name": "python"
    }
  },
  "cells": [
    {
      "cell_type": "markdown",
      "metadata": {
        "id": "view-in-github",
        "colab_type": "text"
      },
      "source": [
        "<a href=\"https://colab.research.google.com/github/mithunkumarsr/CodeMixingDravidianLanguage/blob/main/CS_TamilTranslate.ipynb\" target=\"_parent\"><img src=\"https://colab.research.google.com/assets/colab-badge.svg\" alt=\"Open In Colab\"/></a>"
      ]
    },
    {
      "cell_type": "code",
      "metadata": {
        "colab": {
          "base_uri": "https://localhost:8080/"
        },
        "id": "1BdxlzOhWa9-",
        "outputId": "76ee6b64-c454-46fe-b7fa-5c4f371cff3e"
      },
      "source": [
        "#!pip install spellchecker\n",
        "!pip install indexer\n",
        "from google.cloud import translate\n",
        "from google.cloud import language\n",
        "#from spellchecker import SpellChecker\n",
        "from textblob import TextBlob"
      ],
      "execution_count": null,
      "outputs": [
        {
          "output_type": "stream",
          "name": "stdout",
          "text": [
            "Collecting indexer\n",
            "  Using cached indexer-0.6.2.tar.gz (14 kB)\n",
            "\u001b[33mWARNING: Discarding https://files.pythonhosted.org/packages/c7/2f/49ea001ccc81502fe790c6077ca0cf9c4dc98ce160e1b1225a8c881b53b1/indexer-0.6.2.tar.gz#sha256=829e38d03032baf771cdbc96af885f09851ba996e8496f06f831fc6ce829f35e (from https://pypi.org/simple/indexer/). Command errored out with exit status 1: python setup.py egg_info Check the logs for full command output.\u001b[0m\n",
            "\u001b[31mERROR: Could not find a version that satisfies the requirement indexer (from versions: 0.6.2)\u001b[0m\n",
            "\u001b[31mERROR: No matching distribution found for indexer\u001b[0m\n"
          ]
        }
      ]
    },
    {
      "cell_type": "code",
      "metadata": {
        "colab": {
          "base_uri": "https://localhost:8080/"
        },
        "id": "ML3GlCEO_O9p",
        "outputId": "a85d8bea-021f-4a33-d5cb-2f403d7c897c"
      },
      "source": [
        "import pandas as pd\n",
        "data = pd.read_csv('/content/tamil_sentiment_full_test_withtlabels.tsv', error_bad_lines=False)"
      ],
      "execution_count": null,
      "outputs": [
        {
          "output_type": "stream",
          "name": "stderr",
          "text": [
            "b'Skipping line 8: expected 1 fields, saw 7\\nSkipping line 39: expected 1 fields, saw 3\\nSkipping line 49: expected 1 fields, saw 7\\nSkipping line 50: expected 1 fields, saw 2\\nSkipping line 65: expected 1 fields, saw 3\\nSkipping line 82: expected 1 fields, saw 3\\nSkipping line 91: expected 1 fields, saw 3\\nSkipping line 105: expected 1 fields, saw 2\\nSkipping line 106: expected 1 fields, saw 2\\nSkipping line 119: expected 1 fields, saw 2\\nSkipping line 136: expected 1 fields, saw 2\\nSkipping line 140: expected 1 fields, saw 2\\nSkipping line 141: expected 1 fields, saw 2\\nSkipping line 157: expected 1 fields, saw 2\\nSkipping line 165: expected 1 fields, saw 2\\nSkipping line 171: expected 1 fields, saw 2\\nSkipping line 176: expected 1 fields, saw 4\\nSkipping line 182: expected 1 fields, saw 2\\nSkipping line 195: expected 1 fields, saw 3\\nSkipping line 200: expected 1 fields, saw 3\\nSkipping line 243: expected 1 fields, saw 2\\nSkipping line 260: expected 1 fields, saw 2\\nSkipping line 269: expected 1 fields, saw 2\\nSkipping line 277: expected 1 fields, saw 2\\nSkipping line 296: expected 1 fields, saw 5\\nSkipping line 324: expected 1 fields, saw 3\\nSkipping line 344: expected 1 fields, saw 2\\nSkipping line 350: expected 1 fields, saw 2\\nSkipping line 351: expected 1 fields, saw 3\\nSkipping line 365: expected 1 fields, saw 2\\nSkipping line 374: expected 1 fields, saw 4\\nSkipping line 395: expected 1 fields, saw 4\\nSkipping line 396: expected 1 fields, saw 2\\nSkipping line 417: expected 1 fields, saw 2\\nSkipping line 427: expected 1 fields, saw 2\\nSkipping line 428: expected 1 fields, saw 2\\nSkipping line 450: expected 1 fields, saw 2\\nSkipping line 453: expected 1 fields, saw 3\\nSkipping line 477: expected 1 fields, saw 3\\nSkipping line 491: expected 1 fields, saw 4\\nSkipping line 498: expected 1 fields, saw 2\\nSkipping line 501: expected 1 fields, saw 2\\nSkipping line 506: expected 1 fields, saw 2\\nSkipping line 518: expected 1 fields, saw 5\\nSkipping line 523: expected 1 fields, saw 3\\nSkipping line 524: expected 1 fields, saw 3\\nSkipping line 541: expected 1 fields, saw 2\\nSkipping line 544: expected 1 fields, saw 5\\nSkipping line 552: expected 1 fields, saw 3\\nSkipping line 556: expected 1 fields, saw 4\\nSkipping line 597: expected 1 fields, saw 2\\nSkipping line 599: expected 1 fields, saw 3\\nSkipping line 602: expected 1 fields, saw 2\\nSkipping line 618: expected 1 fields, saw 2\\nSkipping line 630: expected 1 fields, saw 2\\nSkipping line 640: expected 1 fields, saw 7\\nSkipping line 655: expected 1 fields, saw 2\\nSkipping line 679: expected 1 fields, saw 6\\nSkipping line 697: expected 1 fields, saw 2\\nSkipping line 710: expected 1 fields, saw 2\\nSkipping line 732: expected 1 fields, saw 2\\nSkipping line 773: expected 1 fields, saw 2\\nSkipping line 817: expected 1 fields, saw 2\\nSkipping line 821: expected 1 fields, saw 2\\nSkipping line 829: expected 1 fields, saw 2\\nSkipping line 836: expected 1 fields, saw 2\\nSkipping line 839: expected 1 fields, saw 2\\nSkipping line 861: expected 1 fields, saw 5\\nSkipping line 884: expected 1 fields, saw 4\\nSkipping line 890: expected 1 fields, saw 3\\nSkipping line 924: expected 1 fields, saw 2\\nSkipping line 927: expected 1 fields, saw 6\\nSkipping line 940: expected 1 fields, saw 2\\nSkipping line 955: expected 1 fields, saw 2\\nSkipping line 966: expected 1 fields, saw 5\\nSkipping line 972: expected 1 fields, saw 2\\nSkipping line 992: expected 1 fields, saw 2\\nSkipping line 999: expected 1 fields, saw 2\\nSkipping line 1013: expected 1 fields, saw 2\\nSkipping line 1057: expected 1 fields, saw 2\\nSkipping line 1064: expected 1 fields, saw 2\\nSkipping line 1066: expected 1 fields, saw 3\\nSkipping line 1073: expected 1 fields, saw 2\\nSkipping line 1091: expected 1 fields, saw 4\\nSkipping line 1106: expected 1 fields, saw 2\\nSkipping line 1107: expected 1 fields, saw 4\\nSkipping line 1120: expected 1 fields, saw 2\\nSkipping line 1121: expected 1 fields, saw 2\\nSkipping line 1137: expected 1 fields, saw 3\\nSkipping line 1159: expected 1 fields, saw 2\\nSkipping line 1170: expected 1 fields, saw 2\\nSkipping line 1189: expected 1 fields, saw 2\\nSkipping line 1209: expected 1 fields, saw 2\\nSkipping line 1213: expected 1 fields, saw 2\\nSkipping line 1233: expected 1 fields, saw 2\\nSkipping line 1243: expected 1 fields, saw 2\\nSkipping line 1260: expected 1 fields, saw 2\\nSkipping line 1262: expected 1 fields, saw 3\\nSkipping line 1267: expected 1 fields, saw 2\\nSkipping line 1283: expected 1 fields, saw 3\\nSkipping line 1354: expected 1 fields, saw 6\\nSkipping line 1360: expected 1 fields, saw 3\\nSkipping line 1363: expected 1 fields, saw 2\\nSkipping line 1366: expected 1 fields, saw 3\\nSkipping line 1391: expected 1 fields, saw 5\\nSkipping line 1404: expected 1 fields, saw 6\\nSkipping line 1472: expected 1 fields, saw 2\\nSkipping line 1479: expected 1 fields, saw 2\\nSkipping line 1492: expected 1 fields, saw 3\\nSkipping line 1508: expected 1 fields, saw 2\\nSkipping line 1555: expected 1 fields, saw 2\\nSkipping line 1566: expected 1 fields, saw 2\\nSkipping line 1573: expected 1 fields, saw 2\\nSkipping line 1579: expected 1 fields, saw 3\\nSkipping line 1602: expected 1 fields, saw 2\\nSkipping line 1618: expected 1 fields, saw 4\\nSkipping line 1622: expected 1 fields, saw 4\\nSkipping line 1625: expected 1 fields, saw 2\\nSkipping line 1636: expected 1 fields, saw 2\\nSkipping line 1638: expected 1 fields, saw 2\\nSkipping line 1642: expected 1 fields, saw 7\\nSkipping line 1645: expected 1 fields, saw 2\\nSkipping line 1651: expected 1 fields, saw 2\\nSkipping line 1653: expected 1 fields, saw 2\\nSkipping line 1673: expected 1 fields, saw 2\\nSkipping line 1682: expected 1 fields, saw 7\\nSkipping line 1693: expected 1 fields, saw 2\\nSkipping line 1705: expected 1 fields, saw 2\\nSkipping line 1719: expected 1 fields, saw 2\\nSkipping line 1745: expected 1 fields, saw 2\\nSkipping line 1746: expected 1 fields, saw 3\\nSkipping line 1767: expected 1 fields, saw 2\\nSkipping line 1770: expected 1 fields, saw 2\\nSkipping line 1776: expected 1 fields, saw 2\\nSkipping line 1778: expected 1 fields, saw 11\\nSkipping line 1789: expected 1 fields, saw 2\\nSkipping line 1790: expected 1 fields, saw 2\\nSkipping line 1797: expected 1 fields, saw 2\\nSkipping line 1808: expected 1 fields, saw 2\\nSkipping line 1812: expected 1 fields, saw 3\\nSkipping line 1813: expected 1 fields, saw 2\\nSkipping line 1838: expected 1 fields, saw 2\\nSkipping line 1862: expected 1 fields, saw 2\\nSkipping line 1865: expected 1 fields, saw 3\\nSkipping line 1874: expected 1 fields, saw 3\\nSkipping line 1881: expected 1 fields, saw 3\\nSkipping line 1893: expected 1 fields, saw 4\\nSkipping line 1901: expected 1 fields, saw 2\\nSkipping line 1910: expected 1 fields, saw 2\\nSkipping line 1911: expected 1 fields, saw 5\\nSkipping line 1921: expected 1 fields, saw 5\\nSkipping line 1925: expected 1 fields, saw 2\\nSkipping line 1927: expected 1 fields, saw 2\\nSkipping line 1950: expected 1 fields, saw 3\\nSkipping line 1960: expected 1 fields, saw 3\\nSkipping line 1961: expected 1 fields, saw 2\\nSkipping line 2032: expected 1 fields, saw 2\\nSkipping line 2045: expected 1 fields, saw 3\\nSkipping line 2050: expected 1 fields, saw 2\\nSkipping line 2059: expected 1 fields, saw 2\\nSkipping line 2067: expected 1 fields, saw 3\\nSkipping line 2096: expected 1 fields, saw 2\\nSkipping line 2110: expected 1 fields, saw 2\\nSkipping line 2121: expected 1 fields, saw 2\\nSkipping line 2142: expected 1 fields, saw 3\\nSkipping line 2155: expected 1 fields, saw 4\\nSkipping line 2157: expected 1 fields, saw 3\\nSkipping line 2159: expected 1 fields, saw 2\\nSkipping line 2161: expected 1 fields, saw 2\\nSkipping line 2164: expected 1 fields, saw 3\\nSkipping line 2223: expected 1 fields, saw 2\\nSkipping line 2278: expected 1 fields, saw 3\\nSkipping line 2293: expected 1 fields, saw 2\\nSkipping line 2299: expected 1 fields, saw 3\\nSkipping line 2305: expected 1 fields, saw 2\\nSkipping line 2309: expected 1 fields, saw 2\\nSkipping line 2315: expected 1 fields, saw 3\\nSkipping line 2324: expected 1 fields, saw 5\\nSkipping line 2329: expected 1 fields, saw 2\\nSkipping line 2332: expected 1 fields, saw 8\\nSkipping line 2346: expected 1 fields, saw 4\\nSkipping line 2387: expected 1 fields, saw 4\\nSkipping line 2414: expected 1 fields, saw 2\\nSkipping line 2415: expected 1 fields, saw 2\\nSkipping line 2417: expected 1 fields, saw 6\\nSkipping line 2433: expected 1 fields, saw 3\\nSkipping line 2435: expected 1 fields, saw 8\\nSkipping line 2457: expected 1 fields, saw 3\\nSkipping line 2460: expected 1 fields, saw 6\\nSkipping line 2463: expected 1 fields, saw 2\\nSkipping line 2464: expected 1 fields, saw 3\\nSkipping line 2477: expected 1 fields, saw 2\\nSkipping line 2505: expected 1 fields, saw 2\\nSkipping line 2509: expected 1 fields, saw 4\\nSkipping line 2518: expected 1 fields, saw 3\\nSkipping line 2534: expected 1 fields, saw 2\\nSkipping line 2547: expected 1 fields, saw 5\\nSkipping line 2557: expected 1 fields, saw 2\\nSkipping line 2567: expected 1 fields, saw 2\\nSkipping line 2622: expected 1 fields, saw 2\\nSkipping line 2629: expected 1 fields, saw 3\\nSkipping line 2659: expected 1 fields, saw 2\\nSkipping line 2677: expected 1 fields, saw 2\\nSkipping line 2678: expected 1 fields, saw 2\\nSkipping line 2680: expected 1 fields, saw 3\\nSkipping line 2703: expected 1 fields, saw 2\\nSkipping line 2705: expected 1 fields, saw 2\\nSkipping line 2712: expected 1 fields, saw 4\\nSkipping line 2719: expected 1 fields, saw 2\\nSkipping line 2753: expected 1 fields, saw 2\\nSkipping line 2773: expected 1 fields, saw 2\\nSkipping line 2778: expected 1 fields, saw 3\\nSkipping line 2785: expected 1 fields, saw 4\\nSkipping line 2804: expected 1 fields, saw 3\\nSkipping line 2805: expected 1 fields, saw 2\\nSkipping line 2823: expected 1 fields, saw 3\\nSkipping line 2824: expected 1 fields, saw 2\\nSkipping line 2829: expected 1 fields, saw 2\\nSkipping line 2831: expected 1 fields, saw 2\\nSkipping line 2846: expected 1 fields, saw 2\\nSkipping line 2851: expected 1 fields, saw 5\\nSkipping line 2869: expected 1 fields, saw 4\\nSkipping line 2914: expected 1 fields, saw 3\\nSkipping line 2918: expected 1 fields, saw 3\\nSkipping line 2927: expected 1 fields, saw 2\\nSkipping line 2932: expected 1 fields, saw 2\\nSkipping line 2940: expected 1 fields, saw 2\\nSkipping line 2949: expected 1 fields, saw 2\\nSkipping line 2968: expected 1 fields, saw 2\\nSkipping line 2972: expected 1 fields, saw 3\\nSkipping line 2983: expected 1 fields, saw 2\\nSkipping line 2991: expected 1 fields, saw 6\\nSkipping line 3004: expected 1 fields, saw 2\\nSkipping line 3010: expected 1 fields, saw 3\\nSkipping line 3037: expected 1 fields, saw 2\\nSkipping line 3040: expected 1 fields, saw 2\\nSkipping line 3050: expected 1 fields, saw 2\\nSkipping line 3102: expected 1 fields, saw 2\\nSkipping line 3127: expected 1 fields, saw 2\\nSkipping line 3134: expected 1 fields, saw 6\\nSkipping line 3137: expected 1 fields, saw 3\\nSkipping line 3140: expected 1 fields, saw 3\\nSkipping line 3141: expected 1 fields, saw 6\\nSkipping line 3162: expected 1 fields, saw 5\\nSkipping line 3178: expected 1 fields, saw 2\\nSkipping line 3195: expected 1 fields, saw 2\\nSkipping line 3216: expected 1 fields, saw 2\\nSkipping line 3219: expected 1 fields, saw 2\\nSkipping line 3236: expected 1 fields, saw 4\\nSkipping line 3244: expected 1 fields, saw 3\\nSkipping line 3245: expected 1 fields, saw 2\\nSkipping line 3248: expected 1 fields, saw 2\\nSkipping line 3251: expected 1 fields, saw 2\\nSkipping line 3263: expected 1 fields, saw 2\\nSkipping line 3272: expected 1 fields, saw 2\\nSkipping line 3273: expected 1 fields, saw 2\\nSkipping line 3276: expected 1 fields, saw 2\\nSkipping line 3279: expected 1 fields, saw 2\\nSkipping line 3291: expected 1 fields, saw 3\\nSkipping line 3299: expected 1 fields, saw 2\\nSkipping line 3339: expected 1 fields, saw 11\\nSkipping line 3359: expected 1 fields, saw 4\\nSkipping line 3369: expected 1 fields, saw 2\\nSkipping line 3414: expected 1 fields, saw 2\\nSkipping line 3424: expected 1 fields, saw 2\\nSkipping line 3452: expected 1 fields, saw 2\\nSkipping line 3455: expected 1 fields, saw 2\\nSkipping line 3470: expected 1 fields, saw 2\\nSkipping line 3485: expected 1 fields, saw 2\\nSkipping line 3486: expected 1 fields, saw 2\\nSkipping line 3491: expected 1 fields, saw 4\\nSkipping line 3524: expected 1 fields, saw 2\\nSkipping line 3528: expected 1 fields, saw 3\\nSkipping line 3535: expected 1 fields, saw 2\\nSkipping line 3566: expected 1 fields, saw 2\\nSkipping line 3578: expected 1 fields, saw 3\\nSkipping line 3586: expected 1 fields, saw 2\\nSkipping line 3588: expected 1 fields, saw 2\\nSkipping line 3611: expected 1 fields, saw 3\\nSkipping line 3629: expected 1 fields, saw 2\\nSkipping line 3630: expected 1 fields, saw 2\\nSkipping line 3640: expected 1 fields, saw 3\\nSkipping line 3642: expected 1 fields, saw 2\\nSkipping line 3673: expected 1 fields, saw 3\\nSkipping line 3685: expected 1 fields, saw 2\\nSkipping line 3686: expected 1 fields, saw 2\\nSkipping line 3691: expected 1 fields, saw 2\\nSkipping line 3695: expected 1 fields, saw 2\\nSkipping line 3706: expected 1 fields, saw 3\\nSkipping line 3713: expected 1 fields, saw 2\\nSkipping line 3726: expected 1 fields, saw 2\\nSkipping line 3764: expected 1 fields, saw 4\\nSkipping line 3768: expected 1 fields, saw 2\\nSkipping line 3771: expected 1 fields, saw 3\\nSkipping line 3815: expected 1 fields, saw 2\\nSkipping line 3836: expected 1 fields, saw 2\\nSkipping line 3843: expected 1 fields, saw 2\\nSkipping line 3848: expected 1 fields, saw 2\\nSkipping line 3899: expected 1 fields, saw 2\\nSkipping line 3900: expected 1 fields, saw 2\\nSkipping line 3907: expected 1 fields, saw 2\\nSkipping line 3912: expected 1 fields, saw 3\\nSkipping line 3921: expected 1 fields, saw 2\\nSkipping line 3923: expected 1 fields, saw 6\\nSkipping line 3924: expected 1 fields, saw 3\\nSkipping line 3933: expected 1 fields, saw 2\\nSkipping line 3953: expected 1 fields, saw 2\\nSkipping line 3968: expected 1 fields, saw 2\\nSkipping line 3974: expected 1 fields, saw 2\\nSkipping line 3981: expected 1 fields, saw 2\\nSkipping line 3998: expected 1 fields, saw 3\\nSkipping line 4005: expected 1 fields, saw 5\\nSkipping line 4016: expected 1 fields, saw 7\\nSkipping line 4034: expected 1 fields, saw 2\\nSkipping line 4052: expected 1 fields, saw 2\\nSkipping line 4053: expected 1 fields, saw 3\\nSkipping line 4059: expected 1 fields, saw 6\\nSkipping line 4067: expected 1 fields, saw 2\\nSkipping line 4071: expected 1 fields, saw 3\\nSkipping line 4098: expected 1 fields, saw 5\\nSkipping line 4104: expected 1 fields, saw 4\\nSkipping line 4157: expected 1 fields, saw 2\\nSkipping line 4177: expected 1 fields, saw 2\\nSkipping line 4200: expected 1 fields, saw 2\\nSkipping line 4231: expected 1 fields, saw 2\\nSkipping line 4232: expected 1 fields, saw 2\\nSkipping line 4235: expected 1 fields, saw 3\\nSkipping line 4257: expected 1 fields, saw 2\\nSkipping line 4263: expected 1 fields, saw 3\\nSkipping line 4267: expected 1 fields, saw 3\\nSkipping line 4321: expected 1 fields, saw 2\\nSkipping line 4336: expected 1 fields, saw 2\\nSkipping line 4359: expected 1 fields, saw 2\\nSkipping line 4367: expected 1 fields, saw 3\\nSkipping line 4368: expected 1 fields, saw 2\\nSkipping line 4377: expected 1 fields, saw 3\\nSkipping line 4379: expected 1 fields, saw 2\\nSkipping line 4382: expected 1 fields, saw 5\\n'\n"
          ]
        }
      ]
    },
    {
      "cell_type": "code",
      "metadata": {
        "colab": {
          "base_uri": "https://localhost:8080/",
          "height": 419
        },
        "id": "2jRGSkF6AGzp",
        "outputId": "730a2dc2-afa0-4ac8-9c1d-e042b093095e"
      },
      "source": [
        "data"
      ],
      "execution_count": null,
      "outputs": [
        {
          "output_type": "execute_result",
          "data": {
            "text/html": [
              "<div>\n",
              "<style scoped>\n",
              "    .dataframe tbody tr th:only-of-type {\n",
              "        vertical-align: middle;\n",
              "    }\n",
              "\n",
              "    .dataframe tbody tr th {\n",
              "        vertical-align: top;\n",
              "    }\n",
              "\n",
              "    .dataframe thead th {\n",
              "        text-align: right;\n",
              "    }\n",
              "</style>\n",
              "<table border=\"1\" class=\"dataframe\">\n",
              "  <thead>\n",
              "    <tr style=\"text-align: right;\">\n",
              "      <th></th>\n",
              "      <th>id\\ttext\\tcategory</th>\n",
              "    </tr>\n",
              "  </thead>\n",
              "  <tbody>\n",
              "    <tr>\n",
              "      <th>0</th>\n",
              "      <td>Tam_1\\tவீர செங்குந்தர் சார்பாக இந்த திரைப்படம்...</td>\n",
              "    </tr>\n",
              "    <tr>\n",
              "      <th>1</th>\n",
              "      <td>Tam_2\\tTeruk ah irukku .... mokke movie .. was...</td>\n",
              "    </tr>\n",
              "    <tr>\n",
              "      <th>2</th>\n",
              "      <td>Tam_3\\tmanitha samuthaayam amaipil irunthu int...</td>\n",
              "    </tr>\n",
              "    <tr>\n",
              "      <th>3</th>\n",
              "      <td>Tam_4\\tJJ mam we miss u\\tPositive</td>\n",
              "    </tr>\n",
              "    <tr>\n",
              "      <th>4</th>\n",
              "      <td>Tam_5\\tSubtitle me traller dekhne wale like ka...</td>\n",
              "    </tr>\n",
              "    <tr>\n",
              "      <th>...</th>\n",
              "      <td>...</td>\n",
              "    </tr>\n",
              "    <tr>\n",
              "      <th>4059</th>\n",
              "      <td>Tam_4398\\tIthukum dislike potta kammanattti ko...</td>\n",
              "    </tr>\n",
              "    <tr>\n",
              "      <th>4060</th>\n",
              "      <td>Tam_4399\\tSuyama Sinthikiravan than super Hero...</td>\n",
              "    </tr>\n",
              "    <tr>\n",
              "      <th>4061</th>\n",
              "      <td>Tam_4400\\tSuper thalaiva.... Nee mass dha eppa...</td>\n",
              "    </tr>\n",
              "    <tr>\n",
              "      <th>4062</th>\n",
              "      <td>Tam_4401\\tபெண்ணை அடிமையாக்க நினைக்கும் இந்த பட...</td>\n",
              "    </tr>\n",
              "    <tr>\n",
              "      <th>4063</th>\n",
              "      <td>Tam_4402\\tSemma thalaiva alu athikama akirukum...</td>\n",
              "    </tr>\n",
              "  </tbody>\n",
              "</table>\n",
              "<p>4064 rows × 1 columns</p>\n",
              "</div>"
            ],
            "text/plain": [
              "                                     id\\ttext\\tcategory\n",
              "0     Tam_1\\tவீர செங்குந்தர் சார்பாக இந்த திரைப்படம்...\n",
              "1     Tam_2\\tTeruk ah irukku .... mokke movie .. was...\n",
              "2     Tam_3\\tmanitha samuthaayam amaipil irunthu int...\n",
              "3                     Tam_4\\tJJ mam we miss u\\tPositive\n",
              "4     Tam_5\\tSubtitle me traller dekhne wale like ka...\n",
              "...                                                 ...\n",
              "4059  Tam_4398\\tIthukum dislike potta kammanattti ko...\n",
              "4060  Tam_4399\\tSuyama Sinthikiravan than super Hero...\n",
              "4061  Tam_4400\\tSuper thalaiva.... Nee mass dha eppa...\n",
              "4062  Tam_4401\\tபெண்ணை அடிமையாக்க நினைக்கும் இந்த பட...\n",
              "4063  Tam_4402\\tSemma thalaiva alu athikama akirukum...\n",
              "\n",
              "[4064 rows x 1 columns]"
            ]
          },
          "metadata": {},
          "execution_count": 6
        }
      ]
    },
    {
      "cell_type": "code",
      "metadata": {
        "id": "eWvuoCy8XgSQ"
      },
      "source": [
        "import os\n",
        "from google.oauth2 import service_account\n",
        "\n",
        "credentials = service_account.Credentials.from_service_account_file(\"/content/cs-language-e8f4fa6845c9.json\")\n",
        "client = language.LanguageServiceClient(credentials=credentials)\n",
        "\n",
        "GOOGLE_APPLICATION_CREDENTIALS='/content/cs-language-e8f4fa6845c9.json'\n",
        "def goog_trans_tamil_to_english(token):\n",
        "\n",
        "    translate_client = translate.Client()\n",
        "    translation = translate_client.translate(token, source_language='ta')\n",
        "    converted_tok = translation['translatedText']\n",
        "    return converted_tok\n"
      ],
      "execution_count": null,
      "outputs": []
    },
    {
      "cell_type": "code",
      "metadata": {
        "colab": {
          "base_uri": "https://localhost:8080/",
          "height": 35
        },
        "id": "w_2uobN1Xl7p",
        "outputId": "dc95a4ff-4a08-4271-9cb3-480bbc079ad9"
      },
      "source": [
        "import os\n",
        "os.environ[\"GOOGLE_APPLICATION_CREDENTIALS\"] = \"/content/cs-language-e8f4fa6845c9.json\"\n",
        "\n",
        "client = language.LanguageServiceClient.from_service_account_json(\"/content/cs-language-e8f4fa6845c9.json\")\n",
        "\n",
        "goog_trans_tamil_to_english('என்னடா இது சிஸ்டத்தை வச்சு செய்ஞ்சுட்டானுங்க')\n",
        "goog_trans_tamil_to_english('நாடார் சார்பாக படம் வெற்றி பெற வாழ்த்துக்கள்')\n",
        "goog_trans_tamil_to_english('தூத்துக்குடி நாடார்கள் சார்பாக படம் வெற்றி பெற வாழ்த்துக்கள்.')\n",
        "goog_trans_tamil_to_english('Yebbah Dei ... Nalla Padatha Keduthutingale da ... Go and Watch Pink')\n",
        "goog_trans_tamil_to_english('இந்த title காக வே படம் பார்க்கணும் theater ல போய்....    ')"
      ],
      "execution_count": null,
      "outputs": [
        {
          "output_type": "execute_result",
          "data": {
            "application/vnd.google.colaboratory.intrinsic+json": {
              "type": "string"
            },
            "text/plain": [
              "'Go to the theater to watch the movie Way for this title ....'"
            ]
          },
          "metadata": {},
          "execution_count": 31
        }
      ]
    },
    {
      "cell_type": "code",
      "metadata": {
        "id": "0oVBCZm720qV"
      },
      "source": [
        "def get_sub(token):\n",
        "\n",
        "    testimonial = TextBlob(token)\n",
        "    theory = testimonial.sentiment.subjectivity\n",
        "    return theory\n"
      ],
      "execution_count": null,
      "outputs": []
    },
    {
      "cell_type": "code",
      "metadata": {
        "id": "ZKkmOeuZ22sD"
      },
      "source": [
        "def spell_correct(token):\n",
        "\n",
        "    spell = SpellChecker()\n",
        "\n",
        "    if(spell.known(token)):\n",
        "        return token\n",
        "    else:\n",
        "        spell_correct_tok = spell.correction(token)\n",
        "    return spell_correct_tok"
      ],
      "execution_count": null,
      "outputs": []
    },
    {
      "cell_type": "code",
      "metadata": {
        "colab": {
          "base_uri": "https://localhost:8080/"
        },
        "id": "yT-hS1id28v2",
        "outputId": "a2f54528-f3f9-422b-d71f-d1bca3bf78bc"
      },
      "source": [
        "get_sub(goog_trans_tamil_to_english('தூத்துக்குடி நாடார்கள் சார்பாக படம் வெற்றி பெற வாழ்த்துக்கள்.'))\n",
        "get_sub('தூத்துக்குடி நாடார்கள் சார்பாக படம் வெற்றி பெற வாழ்த்துக்கள்.')"
      ],
      "execution_count": null,
      "outputs": [
        {
          "output_type": "execute_result",
          "data": {
            "text/plain": [
              "0.0"
            ]
          },
          "metadata": {},
          "execution_count": 25
        }
      ]
    },
    {
      "cell_type": "code",
      "metadata": {
        "id": "jIk7FjHU9BnV"
      },
      "source": [
        "import csv\n",
        "import json\n",
        "\n",
        "\n",
        "\n",
        "def get_neu_set_cc():\n",
        "\n",
        "    neu_features = \"./feature_files/neu_features.txt\"\n",
        "    neu_feature_file = open(neu_features, \"r\")\n",
        "\n",
        "    neu_set_cc = set()\n",
        "\n",
        "    for neu_word in neu_feature_file:\n",
        "\n",
        "        neu_word = neu_word.lower()\n",
        "        neu_set_cc.add(neu_word)\n",
        "\n",
        "    return neu_set_cc\n",
        "\n",
        "\n",
        "def get_neu_set_c():\n",
        "\n",
        "    neu_features = \"./feature_files/neu_features.txt\"\n",
        "    neu_feature_file = open(neu_features, \"r\")\n",
        "\n",
        "    neu_set_c = set()\n",
        "\n",
        "    for neu_word in neu_feature_file:\n",
        "\n",
        "        neu_word = neu_word.lower()\n",
        "        neu_set_c.add(neu_word)\n",
        "\n",
        "    return neu_set_c\n",
        "\n",
        "\n",
        "def get_neu_set():\n",
        "\n",
        "    neu_features = \"./feature_files/neu_features.txt\"\n",
        "    neu_feature_file = open(neu_features, \"r\")\n",
        "\n",
        "    neu_set = set()\n",
        "\n",
        "    for neu_word in neu_feature_file:\n",
        "\n",
        "        neu_word = neu_word.lower()\n",
        "        neu_set.add(neu_word)\n",
        "        \n",
        "    neg_set_cc = get_neg_set_cc()\n",
        "    neu_set.difference_update(neg_set_cc)\n",
        "\n",
        "    pos_set_cc = get_pos_set_cc()\n",
        "    neu_set.difference_update(pos_set_cc)\n",
        "\n",
        "    return neu_set\n",
        "\n",
        "\n",
        "def get_neg_set_cc():\n",
        "\n",
        "    neg_features = \"./feature_files/neg_features.txt\"\n",
        "    neg_feature_file = open(neg_features, \"r\")\n",
        "\n",
        "    neg_set_cc = set()\n",
        "\n",
        "    for neg_word in neg_feature_file:\n",
        "\n",
        "        neg_word = neg_word.lower()\n",
        "        neg_set_cc.add(neg_word)\n",
        "\n",
        "    return neg_set_cc\n",
        "\n",
        "\n",
        "def get_neg_set_c():\n",
        "\n",
        "    neg_features = \"./feature_files/neg_features.txt\"\n",
        "    neg_feature_file = open(neg_features, \"r\")\n",
        "\n",
        "    neg_set_c = set()\n",
        "\n",
        "    for neg_word in neg_feature_file:\n",
        "\n",
        "        neg_word = neg_word.lower()\n",
        "        neg_set_c.add(neg_word)\n",
        "\n",
        "    return neg_set_c\n",
        "\n",
        "\n",
        "def get_neg_set():\n",
        "\n",
        "    neg_features = \"./feature_files/neg_features.txt\"\n",
        "    neg_feature_file = open(neg_features, \"r\")\n",
        "\n",
        "    neg_set = set()\n",
        "\n",
        "    for neg_word in neg_feature_file:\n",
        "\n",
        "        neg_word = neg_word.lower()\n",
        "        neg_set.add(neg_word)\n",
        "\n",
        "    pos_set_c = get_pos_set_c()\n",
        "    neg_set.difference_update(pos_set_c)\n",
        "\n",
        "    neu_set_cc = get_neu_set_cc()\n",
        "    neg_set.difference_update(neu_set_cc)\n",
        "\n",
        "    return neg_set\n",
        "\n",
        "\n",
        "def get_pos_set_cc():\n",
        "\n",
        "    pos_features = \"./feature_files/pos_features.txt\"\n",
        "    pos_feature_file = open(pos_features, \"r\")\n",
        "\n",
        "    pos_set_cc = set()\n",
        "\n",
        "    for pos_word in pos_feature_file:\n",
        "\n",
        "        pos_word = pos_word.lower()\n",
        "        pos_set_cc.add(pos_word)\n",
        "\n",
        "    return pos_set_cc\n",
        "\n",
        "\n",
        "def get_pos_set_c():\n",
        "\n",
        "    pos_features = \"./feature_files/pos_features.txt\"\n",
        "    pos_feature_file = open(pos_features, \"r\")\n",
        "\n",
        "    pos_set_c = set()\n",
        "\n",
        "    for pos_word in pos_feature_file:\n",
        "\n",
        "        pos_word = pos_word.lower()\n",
        "        pos_set_c.add(pos_word)\n",
        "\n",
        "    return pos_set_c\n",
        "\n",
        "\n",
        "def get_pos_set():\n",
        "\n",
        "    pos_features = \"./feature_files/pos_features.txt\"\n",
        "    pos_feature_file = open(pos_features, \"r\")\n",
        "\n",
        "    pos_set = set()\n",
        "\n",
        "    for pos_word in pos_feature_file:\n",
        "\n",
        "        pos_word = pos_word.lower()\n",
        "        pos_set.add(pos_word)\n",
        "\n",
        "    neg_set_c = get_neg_set_c()\n",
        "    pos_set.difference_update(neg_set_c)\n",
        "\n",
        "    neu_set_c = get_neu_set_c()\n",
        "    pos_set.difference_update(neu_set_c)\n",
        "\n",
        "    return pos_set"
      ],
      "execution_count": null,
      "outputs": []
    }
  ]
}